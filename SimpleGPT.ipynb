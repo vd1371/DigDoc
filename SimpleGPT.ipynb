{
 "cells": [
  {
   "cell_type": "code",
   "execution_count": 1,
   "metadata": {
    "ExecuteTime": {
     "end_time": "2024-09-02T04:31:05.541426Z",
     "start_time": "2024-09-02T04:31:05.326134Z"
    }
   },
   "outputs": [],
   "source": [
    "import os\n",
    "from openai import OpenAI\n",
    "\n",
    "from dotenv import load_dotenv\n",
    "load_dotenv()\n",
    "\n",
    "def generate_response(query, context, role):\n",
    "    client = OpenAI(\n",
    "        api_key=os.getenv(\"API_KEY\"),\n",
    "    )\n",
    "    response = client.chat.completions.create(\n",
    "        model=\"gpt-4o\",\n",
    "        messages=[\n",
    "            {\"role\": \"system\", \"content\": role},\n",
    "            {\"role\": \"user\",\n",
    "             \"content\": f\"Context: {context}\\n\\nQuestion: {query}\"}\n",
    "        ]\n",
    "    )\n",
    "    return response.choices[0].message.content\n"
   ]
  },
  {
   "cell_type": "code",
   "execution_count": 2,
   "metadata": {
    "ExecuteTime": {
     "end_time": "2024-09-02T04:31:05.544103Z",
     "start_time": "2024-09-02T04:31:05.542422Z"
    }
   },
   "outputs": [],
   "source": [
    "role = \"You are general assistant\"\n",
    "\n",
    "query = \"\"\"\n",
    "\n",
    "give me a description and a readme for a github project that is a RAG for literature review\n",
    "\n",
    "\"\"\""
   ]
  },
  {
   "cell_type": "code",
   "execution_count": 3,
   "metadata": {
    "ExecuteTime": {
     "end_time": "2024-09-02T04:31:16.346725Z",
     "start_time": "2024-09-02T04:31:05.544623Z"
    }
   },
   "outputs": [],
   "source": [
    "# Open a markdown file and write the response\n",
    "file_name = \"SimpleGPT.md\"\n",
    "if not os.path.exists(\"SimpleGPT.md\"):\n",
    "    with open(\"SimpleGPT.md\", \"w\") as f:\n",
    "        f.write(\"\")\n",
    "    context = \"\"\n",
    "\n",
    "with open(\"SimpleGPT.md\", \"r\") as f:\n",
    "    context = f.read()\n",
    "\n",
    "response = generate_response(query, context, role)\n",
    "context += f\"Question: {query}\\n\\nAnswer: {response}\\n\\n\"\n",
    "\n",
    "with open(\"SimpleGPT.md\", \"w\") as f:\n",
    "    f.write(context + f\"Question: {query}\\n\\nAnswer: {response}\\n\\n\")"
   ]
  }
 ],
 "metadata": {
  "kernelspec": {
   "display_name": "Python 3",
   "language": "python",
   "name": "python3"
  },
  "language_info": {
   "codemirror_mode": {
    "name": "ipython",
    "version": 3
   },
   "file_extension": ".py",
   "mimetype": "text/x-python",
   "name": "python",
   "nbconvert_exporter": "python",
   "pygments_lexer": "ipython3",
   "version": "3.10.12"
  }
 },
 "nbformat": 4,
 "nbformat_minor": 2
}
