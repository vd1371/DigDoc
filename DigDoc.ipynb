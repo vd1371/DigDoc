{
 "cells": [
  {
   "cell_type": "code",
   "execution_count": 1,
   "metadata": {
    "ExecuteTime": {
     "end_time": "2024-09-10T06:10:26.002759Z",
     "start_time": "2024-09-10T06:10:21.626420Z"
    },
    "collapsed": false
   },
   "outputs": [
    {
     "name": "stdout",
     "output_type": "stream",
     "text": [
      "Using cached content for https://scholar.google.com/citations?view_op=view_citation&hl=en&user=eUlLuc8AAAAJ&citation_for_view=eUlLuc8AAAAJ:u-x6o8ySG0sC\n",
      "Using cached content for https://scholar.google.com/citations?view_op=view_citation&hl=en&user=eUlLuc8AAAAJ&citation_for_view=eUlLuc8AAAAJ:YsMSGLbcyi4C\n",
      "Using cached content for https://scholar.google.com/citations?view_op=view_citation&hl=en&user=eUlLuc8AAAAJ&citation_for_view=eUlLuc8AAAAJ:9yKSN-GCB0IC\n",
      "Using cached content for https://scholar.google.com/citations?view_op=view_citation&hl=en&user=eUlLuc8AAAAJ&citation_for_view=eUlLuc8AAAAJ:Tyk-4Ss8FVUC\n",
      "Using cached content for https://scholar.google.com/citations?view_op=view_citation&hl=en&user=eUlLuc8AAAAJ&citation_for_view=eUlLuc8AAAAJ:_FxGoFyzp5QC\n",
      "Using cached content for https://scholar.google.com/citations?view_op=view_citation&hl=en&user=eUlLuc8AAAAJ&citation_for_view=eUlLuc8AAAAJ:eQOLeE2rZwMC\n",
      "Using cached content for https://scholar.google.com/citations?view_op=view_citation&hl=en&user=eUlLuc8AAAAJ&citation_for_view=eUlLuc8AAAAJ:LkGwnXOMwfcC\n",
      "Using cached content for https://scholar.google.com/citations?view_op=view_citation&hl=en&user=eUlLuc8AAAAJ&citation_for_view=eUlLuc8AAAAJ:IjCSPb-OGe4C\n",
      "Using cached content for https://scholar.google.com/citations?view_op=view_citation&hl=en&user=eUlLuc8AAAAJ&citation_for_view=eUlLuc8AAAAJ:Se3iqnhoufwC\n",
      "Using cached content for https://scholar.google.com/citations?view_op=view_citation&hl=en&user=eUlLuc8AAAAJ&citation_for_view=eUlLuc8AAAAJ:Y0pCki6q_DkC\n",
      "Using cached content for https://scholar.google.com/citations?view_op=view_citation&hl=en&user=eUlLuc8AAAAJ&citation_for_view=eUlLuc8AAAAJ:roLk4NBRz8UC\n"
     ]
    }
   ],
   "source": [
    "from utils import DigDoc\n",
    "\n",
    "# docs_directory: str, a directory containing the documents to be digested, or \"web\" to read urls\n",
    "# target_docs: list, a list of documents to be digested, or a list of \n",
    "\n",
    "digestor = DigDoc(\n",
    "    docs_directory=\"web\",\n",
    "    model = \"gpt-4o\",\n",
    "    project_name = \"Test\",\n",
    ")\n",
    "\n",
    "digestor.read_docs(\n",
    "    target_docs = [\n",
    "        \"https://scholar.google.com/citations?view_op=view_citation&hl=en&user=eUlLuc8AAAAJ&citation_for_view=eUlLuc8AAAAJ:u-x6o8ySG0sC\",\n",
    "        \"https://scholar.google.com/citations?view_op=view_citation&hl=en&user=eUlLuc8AAAAJ&citation_for_view=eUlLuc8AAAAJ:YsMSGLbcyi4C\",\n",
    "        \"https://scholar.google.com/citations?view_op=view_citation&hl=en&user=eUlLuc8AAAAJ&citation_for_view=eUlLuc8AAAAJ:9yKSN-GCB0IC\",\n",
    "        \"https://scholar.google.com/citations?view_op=view_citation&hl=en&user=eUlLuc8AAAAJ&citation_for_view=eUlLuc8AAAAJ:Tyk-4Ss8FVUC\",\n",
    "        \"https://scholar.google.com/citations?view_op=view_citation&hl=en&user=eUlLuc8AAAAJ&citation_for_view=eUlLuc8AAAAJ:_FxGoFyzp5QC\",\n",
    "        \"https://scholar.google.com/citations?view_op=view_citation&hl=en&user=eUlLuc8AAAAJ&citation_for_view=eUlLuc8AAAAJ:eQOLeE2rZwMC\",\n",
    "        \"https://scholar.google.com/citations?view_op=view_citation&hl=en&user=eUlLuc8AAAAJ&citation_for_view=eUlLuc8AAAAJ:LkGwnXOMwfcC\",\n",
    "        \"https://scholar.google.com/citations?view_op=view_citation&hl=en&user=eUlLuc8AAAAJ&citation_for_view=eUlLuc8AAAAJ:IjCSPb-OGe4C\",\n",
    "        \"https://scholar.google.com/citations?view_op=view_citation&hl=en&user=eUlLuc8AAAAJ&citation_for_view=eUlLuc8AAAAJ:Se3iqnhoufwC\",\n",
    "        \"https://scholar.google.com/citations?view_op=view_citation&hl=en&user=eUlLuc8AAAAJ&citation_for_view=eUlLuc8AAAAJ:Y0pCki6q_DkC\",\n",
    "        \"https://scholar.google.com/citations?view_op=view_citation&hl=en&user=eUlLuc8AAAAJ&citation_for_view=eUlLuc8AAAAJ:roLk4NBRz8UC\"\n",
    "    ],\n",
    "    reindex = True\n",
    ")"
   ]
  },
  {
   "cell_type": "code",
   "execution_count": 3,
   "metadata": {
    "ExecuteTime": {
     "end_time": "2024-09-10T06:10:38.425859Z",
     "start_time": "2024-09-10T06:10:26.007112Z"
    },
    "collapsed": false
   },
   "outputs": [
    {
     "name": "stdout",
     "output_type": "stream",
     "text": [
      "Chat history saved to projects\\Test\\ChatHistory.html\n",
      "Answer: Based on the provided abstracts, the main research directions and focuses of Vahid Asghari can be summarized as follows:\n",
      "\n",
      "1. **Application of Machine Learning in Construction Engineering**:\n",
      "   - Developing and improving machine learning frameworks for various construction engineering applications, including systematic guidelines for ML project stages and specific use cases like leak detection and corporate misconduct prediction.\n",
      "\n",
      "2. **Decision-Making under Uncertainty in Infrastructure Management**:\n",
      "   - Utilizing advanced techniques such as multi-agent reinforcement learning to enhance decision-making processes in infrastructure asset management, addressing multiple uncertainties including deterioration, hazards, and cost fluctuations.\n",
      "\n",
      "3. **Sustainability and Environmental Impact in Construction**:\n",
      "   - Conducting life cycle assessments (LCA) to evaluate and improve the environmental impacts of construction processes, particularly focusing on concrete waste recycling and the development of sustainable recycling technologies.\n",
      "\n",
      "4. **Detection and Prevention of Corporate Misconduct**:\n",
      "   - Implementing predictive models, such as random forest, to detect and rank factors associated with corporate misconduct in the construction industry, supporting sustainable business practices and regulatory compliance.\n",
      "\n",
      "5. **Improving Reliability and Performance of Engineering Solutions**:\n",
      "   - Enhancing the reliability and applicability of machine learning models in engineering solutions through systematic reviews and critical assessments, ensuring accurate data collection, pre-processing, model training, and performance validation.\n",
      "\n",
      "These research areas highlight a strong focus on leveraging advanced data-driven technologies to address complex problems in construction engineering, infrastructure management, and sustainability.\n"
     ]
    }
   ],
   "source": [
    "query = f\"\"\"\n",
    "what are the main research directions and focuses of this researcher based on the abstracts provided?\n",
    "\n",
    "they should be big picture and general, not specific to any one paper\n",
    "\n",
    "\"\"\"\n",
    "\n",
    "answer, source_docs = digestor.answer(query)\n",
    "\n",
    "print(f\"Answer: {answer}\")"
   ]
  }
 ],
 "metadata": {
  "kernelspec": {
   "display_name": "Python 3",
   "language": "python",
   "name": "python3"
  },
  "language_info": {
   "codemirror_mode": {
    "name": "ipython",
    "version": 3
   },
   "file_extension": ".py",
   "mimetype": "text/x-python",
   "name": "python",
   "nbconvert_exporter": "python",
   "pygments_lexer": "ipython3",
   "version": "3.10.11"
  }
 },
 "nbformat": 4,
 "nbformat_minor": 2
}
