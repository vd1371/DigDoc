{
 "cells": [
  {
   "cell_type": "code",
   "execution_count": 1,
   "metadata": {
    "collapsed": false,
    "ExecuteTime": {
     "end_time": "2024-09-13T14:24:22.369524Z",
     "start_time": "2024-09-13T14:23:54.132477Z"
    }
   },
   "outputs": [
    {
     "name": "stdout",
     "output_type": "stream",
     "text": [
      "Scraping: https://scholar.google.com/citations?user=TE9vY44AAAAJ&hl=en\n",
      "Scraping: https://scholar.google.com/citations?view_op=view_citation&hl=en&user=TE9vY44AAAAJ&citation_for_view=TE9vY44AAAAJ:d1gkVwhDpl0C\n",
      "Scraping: https://scholar.google.com/citations?view_op=view_citation&hl=en&user=TE9vY44AAAAJ&citation_for_view=TE9vY44AAAAJ:UeHWp8X0CEIC\n",
      "Scraping: https://scholar.google.com/citations?view_op=view_citation&hl=en&user=TE9vY44AAAAJ&citation_for_view=TE9vY44AAAAJ:qjMakFHDy7sC\n",
      "Scraping: https://scholar.google.com/citations?view_op=view_citation&hl=en&user=TE9vY44AAAAJ&citation_for_view=TE9vY44AAAAJ:2osOgNQ5qMEC\n",
      "Scraping: https://scholar.google.com/citations?view_op=view_citation&hl=en&user=TE9vY44AAAAJ&citation_for_view=TE9vY44AAAAJ:9yKSN-GCB0IC\n",
      "Scraping: https://scholar.google.com/citations?view_op=view_citation&hl=en&user=TE9vY44AAAAJ&citation_for_view=TE9vY44AAAAJ:Tyk-4Ss8FVUC\n",
      "Scraping: https://scholar.google.com/citations?view_op=view_citation&hl=en&user=TE9vY44AAAAJ&citation_for_view=TE9vY44AAAAJ:W7OEmFMy1HYC\n",
      "Scraping: https://scholar.google.com/citations?view_op=view_citation&hl=en&user=TE9vY44AAAAJ&citation_for_view=TE9vY44AAAAJ:IjCSPb-OGe4C\n",
      "Scraping: https://scholar.google.com/citations?view_op=view_citation&hl=en&user=TE9vY44AAAAJ&citation_for_view=TE9vY44AAAAJ:u-x6o8ySG0sC\n"
     ]
    }
   ],
   "source": [
    "from utils import DigDoc\n",
    "\n",
    "# directory:\n",
    "#   - a folder on your local machine, where the documents are searched, \"web\", or \"google\"\n",
    "#   - \"web\" for web scrapping, you need to provide links in the targets, it will dig until the max_depth and max_pages\n",
    "#   - \"google\" for Google search, you need to provide the sites in the target, or \"all\" for all the searches that google provides\n",
    "\n",
    "# The code cannot catch typos and other errors in the target, so make sure to provide the correct links\n",
    "\n",
    "digger = DigDoc(\n",
    "    directory = \"web\",\n",
    "    model = \"gpt-4o\",\n",
    "    project_name = \"Test\",\n",
    "    target = [\n",
    "        \"https://scholar.google.com/citations?user=TE9vY44AAAAJ&hl=en\",\n",
    "    ],\n",
    "    reindex = True\n",
    ")\n",
    "\n",
    "# For web scrapping\n",
    "digger.set_scrapping_params(\n",
    "    max_depth = 2,\n",
    "    max_pages = 10,\n",
    "    load_from_cache = False\n",
    ")\n",
    "\n",
    "digger.dig()"
   ]
  },
  {
   "cell_type": "code",
   "execution_count": 2,
   "metadata": {
    "collapsed": false,
    "ExecuteTime": {
     "end_time": "2024-09-13T14:24:25.998224Z",
     "start_time": "2024-09-13T14:24:22.370481Z"
    }
   },
   "outputs": [
    {
     "name": "stdout",
     "output_type": "stream",
     "text": [
      "Chat history saved to projects/Test/ChatHistory.html\n",
      "Answer: Certainly! Here is a concise summary of Peyman Aela's research:\n",
      "\n",
      "Peyman Aela is a postdoctoral fellow at PolyU with a focus on railway engineering, particularly in the areas of ballast, sleepers, and geotechnical aspects of railway tracks. His research includes experimental and numerical analysis of lateral resistance in ballasted tracks, the application of tire-derived aggregates to enhance track performance, and discrete element modeling of ballast particles. Aela has also explored the optimization of sleeper designs to improve stability and the use of recycled materials in railway construction. His work has contributed to a better understanding of track behavior under various loading conditions, promoting safer and more efficient railway systems.\n",
      "\n",
      "Feel free to personalize this summary to better fit your needs!\n"
     ]
    }
   ],
   "source": [
    "query = f\"\"\"\n",
    "\n",
    "can you give me a summary of Peyman Aela's research?\n",
    "\n",
    "I want to send him an email, so I just need to show that I'm interested in his work.\n",
    "\n",
    "so, a short paragrpah about his research would be great.\n",
    "\n",
    "\"\"\"\n",
    "\n",
    "answer, source_docs = digger.answer(query)\n",
    "\n",
    "print(f\"Answer: {answer}\")"
   ]
  }
 ],
 "metadata": {
  "kernelspec": {
   "display_name": "Python 3",
   "language": "python",
   "name": "python3"
  },
  "language_info": {
   "codemirror_mode": {
    "name": "ipython",
    "version": 3
   },
   "file_extension": ".py",
   "mimetype": "text/x-python",
   "name": "python",
   "nbconvert_exporter": "python",
   "pygments_lexer": "ipython3",
   "version": "3.10.11"
  }
 },
 "nbformat": 4,
 "nbformat_minor": 2
}
