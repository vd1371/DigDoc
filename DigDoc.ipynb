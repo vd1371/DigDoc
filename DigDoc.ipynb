{
 "cells": [
  {
   "cell_type": "code",
   "execution_count": 1,
   "metadata": {
    "ExecuteTime": {
     "end_time": "2024-09-10T06:10:26.002759Z",
     "start_time": "2024-09-10T06:10:21.626420Z"
    },
    "collapsed": false
   },
   "outputs": [
    {
     "name": "stdout",
     "output_type": "stream",
     "text": [
      "1-s2.0-S221242092100282X-main.pdf is being processed\n",
      "1-s2.0-S0959378017304077-main.pdf is being processed\n",
      "1-s2.0-S0959652618308941-main.pdf is being processed\n",
      "1-s2.0-S0964569118300693-main.pdf is being processed\n",
      "1-s2.0-S2210670719315872-main.pdf is being processed\n",
      "dawson-et-al-2018-a-systems-framework-for-national-assessment-of-climate-risks-to-infrastructure.pdf is being processed\n",
      "nwaa134.pdf is being processed\n",
      "science.abc8054.pdf is being processed\n",
      "1-A novel framework for risk assessment and resilience of critical infrastructure towards climate change.pdf is being processed\n",
      "2-Resilience assessment framework for critical infrastructure in a multihazard environment.pdf is being processed\n",
      "3-Probabilistic decision-support framework for community resilience.pdf is being processed\n"
     ]
    }
   ],
   "source": [
    "from utils import DigDoc\n",
    "\n",
    "# docs_directory: str, a directory containing the documents to be digested, or \"web\" to read urls\n",
    "# target_docs: list, a list of documents to be digested, or a list of \n",
    "\n",
    "digger = DigDoc(\n",
    "    docs_directory=\"/home/vahid/Downloads\",\n",
    "    model = \"gpt-4o\",\n",
    "    project_name = \"Test\",\n",
    "    target_docs = [\n",
    "        \".pdf\"\n",
    "    ],\n",
    "    reindex = True\n",
    ")\n",
    "\n",
    "# For web scrapping\n",
    "digger.set_scrapping_params(\n",
    "    max_depth = 2,\n",
    "    max_pages = 10,\n",
    "    load_from_cache = False\n",
    ")\n",
    "\n",
    "digger.dig()"
   ]
  },
  {
   "cell_type": "code",
   "execution_count": 2,
   "metadata": {
    "ExecuteTime": {
     "end_time": "2024-09-10T06:10:38.425859Z",
     "start_time": "2024-09-10T06:10:26.007112Z"
    },
    "collapsed": false
   },
   "outputs": [
    {
     "name": "stdout",
     "output_type": "stream",
     "text": [
      "Chat history saved to projects\\Test\\ChatHistory.html\n",
      "Answer: The key challenges in climate resilient infrastructure are multifaceted and include the following:\n",
      "\n",
      "1. **High Capital Costs and Long Lifespans**: Infrastructure projects typically require significant investment and have long lifespans (30–200 years), making them sensitive to future climate conditions and difficult to modify once built.\n",
      "\n",
      "2. **Limited Flexibility**: Once infrastructure is constructed, it often lacks the flexibility to adapt to changing climate conditions without significant additional investment.\n",
      "\n",
      "3. **Broad Range of Climate Impacts**: Infrastructure sectors such as water, transport, and energy are typically considered in climate assessments. However, sectors like solid waste, information and communication technology (ICT), flood, and coastal protection infrastructure often receive limited consideration.\n",
      "\n",
      "4. **Geographical and Engineering Specificity**: The magnitude of climate risks varies based on specific geographical and engineering features, making uniform solutions challenging.\n",
      "\n",
      "5. **Flooding**: Flooding poses the most significant climate risk, affecting all infrastructure sectors. Increasing flood risks due to river, coastal, groundwater, or surface water sources can lead to severe disruptions and high repair costs.\n",
      "\n",
      "6. **Water Availability**: Climate change can lead to droughts and reduced water availability, impacting water resources for consumption and industrial uses such as cooling power plants.\n",
      "\n",
      "7. **Storm Damage**: Infrastructure like overhead cables and ICT networks are vulnerable to storm damage from high winds, lightning, and debris.\n",
      "\n",
      "8. **Interdependencies and Cascading Failures**: Infrastructure systems are increasingly interconnected. Failures in one system can cascade and amplify impacts across other systems.\n",
      "\n",
      "9. **Uncertainty in Climate Projections**: There is significant uncertainty regarding the impact of climate change on specific weather events like wind, lightning, and extreme rainfall, which complicates risk assessment and planning.\n",
      "\n",
      "10. **Long-Term Deterioration and Failure**: Understanding the long-term deterioration and failure processes of infrastructure under changing climate conditions is limited, necessitating more comprehensive research.\n",
      "\n",
      "11. **Governance and Coordination**: Current governance arrangements often lack clarity on responsibilities for assessing and managing risks from interdependencies between infrastructure sectors.\n",
      "\n",
      "12. **Data Gaps and Inconsistent Reporting**: There are significant knowledge gaps and inconsistencies in recording infrastructure performance, adaptation measures, and the impact of climate change on infrastructure.\n",
      "\n",
      "Addressing these challenges requires a systematic approach that includes comprehensive risk assessments, robust data collection, and coordinated adaptation strategies across all infrastructure sectors.\n"
     ]
    }
   ],
   "source": [
    "query = f\"\"\"\n",
    "\n",
    "What are the key challenges in climate resilient infrastructure?\n",
    "\n",
    "\"\"\"\n",
    "\n",
    "answer, source_docs = digger.answer(query)\n",
    "\n",
    "print(f\"Answer: {answer}\")"
   ]
  }
 ],
 "metadata": {
  "kernelspec": {
   "display_name": "Python 3",
   "language": "python",
   "name": "python3"
  },
  "language_info": {
   "codemirror_mode": {
    "name": "ipython",
    "version": 3
   },
   "file_extension": ".py",
   "mimetype": "text/x-python",
   "name": "python",
   "nbconvert_exporter": "python",
   "pygments_lexer": "ipython3",
   "version": "3.10.11"
  }
 },
 "nbformat": 4,
 "nbformat_minor": 2
}
