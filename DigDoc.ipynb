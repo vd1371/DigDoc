{
 "cells": [
  {
   "cell_type": "code",
   "execution_count": 3,
   "metadata": {
    "ExecuteTime": {
     "end_time": "2024-09-16T07:25:14.879937Z",
     "start_time": "2024-09-16T07:25:06.049831Z"
    },
    "collapsed": false
   },
   "outputs": [],
   "source": [
    "from utils.DigDoc import DigDoc\n",
    "\n",
    "# directory:\n",
    "#   - a folder on your local machine, where the documents are searched, \"web\", or \"google\"\n",
    "#   - \"web\" for web scrapping, you need to provide links in the targets, it will dig until the max_depth and max_pages\n",
    "#   - \"google\" for Google search, you need to provide the sites in the target, or \"all\" for all the searches that google provides\n",
    "\n",
    "# retreiver: FAISS, bm25\n",
    "\n",
    "# The code cannot catch typos and other errors in the target, so make sure to provide the correct links\n",
    "\n",
    "digger = DigDoc(\n",
    "    directory = \"/home/vahid/Downloads/Zhongnan\",\n",
    "    model = \"gpt-4o\",\n",
    "    project_name = \"Test\",\n",
    "    retriever = \"FAISS\",\n",
    "    target = [\n",
    "        \"theory\",\n",
    "    ],\n",
    "    reindex = True,\n",
    "\n",
    "    # Web Scrapping parameters\n",
    "    max_depth = 1,\n",
    "    max_pages = 3,\n",
    "    load_from_cache = False\n",
    ")\n",
    "\n",
    "\n",
    "digger.index()"
   ]
  },
  {
   "cell_type": "markdown",
   "metadata": {},
   "source": [
    "# Literature Review"
   ]
  },
  {
   "cell_type": "code",
   "execution_count": null,
   "metadata": {
    "ExecuteTime": {
     "end_time": "2024-09-16T07:25:20.105851Z",
     "start_time": "2024-09-16T07:25:18.034156Z"
    },
    "collapsed": false
   },
   "outputs": [],
   "source": [
    "query = f\"\"\"\n",
    "\n",
    "write a literature review paragraph about the paper with the following format:\n",
    "\n",
    "it should be one paragraph, not in bullet point\n",
    "\n",
    "the style of writing should be like this, but you need to rewrite it:\n",
    "\n",
    "the authors highlighted a gap in the literate [RESEARCH GAP]. They used [METHODOLOGY] to tackel the limitations.\n",
    "Their results show [CONCLUSION and CONTRIBUTION]. However, the study has some limitations [LIMITATIONS] and future works should consider [FUTURE WORKS]\n",
    "\n",
    "\"\"\"\n",
    "\n",
    "answer = digger.answer(query)\n",
    "\n",
    "print(f\"Answer: {answer}\")"
   ]
  }
 ],
 "metadata": {
  "kernelspec": {
   "display_name": "Python 3",
   "language": "python",
   "name": "python3"
  },
  "language_info": {
   "codemirror_mode": {
    "name": "ipython",
    "version": 3
   },
   "file_extension": ".py",
   "mimetype": "text/x-python",
   "name": "python",
   "nbconvert_exporter": "python",
   "pygments_lexer": "ipython3",
   "version": "3.11.0rc1"
  }
 },
 "nbformat": 4,
 "nbformat_minor": 2
}
