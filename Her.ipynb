{
 "cells": [
  {
   "cell_type": "code",
   "execution_count": 1,
   "metadata": {
    "ExecuteTime": {
     "end_time": "2024-09-08T13:58:06.335624Z",
     "start_time": "2024-09-08T13:58:05.579367Z"
    }
   },
   "outputs": [],
   "source": [
    "from utils import Her\n",
    "\n",
    "her = Her(\n",
    "    model = \"gpt-4o\", # gpt-4o or anthropic\n",
    "    should_refresh_context = False,\n",
    "    append_history = True\n",
    ")\n"
   ]
  },
  {
   "cell_type": "code",
   "execution_count": 3,
   "metadata": {
    "ExecuteTime": {
     "end_time": "2024-09-08T13:59:31.118477Z",
     "start_time": "2024-09-08T13:59:24.407837Z"
    }
   },
   "outputs": [
    {
     "name": "stdout",
     "output_type": "stream",
     "text": [
      "Response saved to Her.md\n",
      "If the remote origin has been set using SSH instead of HTTPS, the steps to update the remote URL will be slightly different. Here’s how to update the remote URL when using SSH:\n",
      "\n",
      "### 1. Renaming the Repository on GitHub\n",
      "\n",
      "1. **Navigate to Your Repository:**\n",
      "   - Go to GitHub and log in to your account.\n",
      "   - Navigate to the repository you want to rename.\n",
      "\n",
      "2. **Rename the Repository:**\n",
      "   - Click on the \"Settings\" tab in the repository.\n",
      "   - In the \"Repository name\" section, change the name of your repository.\n",
      "   - Once you have entered the new name, click \"Rename\" to save the changes.\n",
      "\n",
      "### 2. Updating Local Repository (Using SSH)\n",
      "\n",
      "After renaming the repository on GitHub, you need to update the local repository to reflect this change.\n",
      "\n",
      "1. **Update the Remote URL:**\n",
      "   - Open a terminal or command prompt.\n",
      "   - Navigate to your local repository directory.\n",
      "   - Update the origin URL to match the new repository name:\n",
      "     ```bash\n",
      "     git remote set-url origin git@github.com:your-username/new-repository-name.git\n",
      "     ```\n",
      "\n",
      "2. **Verify the New Remote URL:**\n",
      "   - Verify that the remote URL has been updated correctly:\n",
      "     ```bash\n",
      "     git remote -v\n",
      "     ```\n",
      "\n",
      "### Optional: Rename Local Repository Folder\n",
      "\n",
      "If you also want to rename the local repository folder for consistency:\n",
      "\n",
      "1. **Rename the Folder:**\n",
      "   - Close any open terminals or IDEs which are pointing to the folder you're going to rename to avoid issues.\n",
      "   - Rename the folder in your file system to match the new repository name.\n",
      "\n",
      "2. **Navigate to the Renamed Folder:**\n",
      "   - Open a terminal or command prompt.\n",
      "   - Navigate to the renamed folder:\n",
      "     ```bash\n",
      "     cd path/to/new-repository-folder\n",
      "     ```\n",
      "\n",
      "### Example (Step-by-Step)\n",
      "\n",
      "Assume you have a repository named `old-repo-name` and you want to rename it to `new-repo-name`.\n",
      "\n",
      "1. **Rename on GitHub:**\n",
      "   - Go to `https://github.com/your-username/old-repo-name`.\n",
      "   - In \"Settings,\" change `old-repo-name` to `new-repo-name`.\n",
      "\n",
      "2. **Update Local Repository (Using SSH):**\n",
      "   ```bash\n",
      "   cd path/to/old-repo-name\n",
      "   git remote set-url origin git@github.com:your-username/new-repository-name.git\n",
      "   git remote -v\n",
      "   ```\n",
      "\n",
      "3. **Rename Local Folder (Optional):**\n",
      "   - Rename the folder from `old-repo-name` to `new-repo-name` in your file system.\n",
      "   - Navigate to the new folder:\n",
      "     ```bash\n",
      "     cd path/to/new-repo-name\n",
      "     ```\n",
      "\n",
      "That’s it! You have successfully renamed your repository both locally and remotely using SSH.\n"
     ]
    }
   ],
   "source": [
    "query = \"\"\"\n",
    "\n",
    "Hello, How are you?\n",
    "\n",
    "\"\"\"\n",
    "response = her.ask(\n",
    "    query,\n",
    "    role = \"You are general assistant\",\n",
    ")\n",
    "\n",
    "print (response)"
   ]
  }
 ],
 "metadata": {
  "kernelspec": {
   "display_name": "Python 3",
   "language": "python",
   "name": "python3"
  },
  "language_info": {
   "codemirror_mode": {
    "name": "ipython",
    "version": 3
   },
   "file_extension": ".py",
   "mimetype": "text/x-python",
   "name": "python",
   "nbconvert_exporter": "python",
   "pygments_lexer": "ipython3",
   "version": "3.10.11"
  }
 },
 "nbformat": 4,
 "nbformat_minor": 2
}
