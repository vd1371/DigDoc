{
 "cells": [
  {
   "cell_type": "code",
   "execution_count": 4,
   "metadata": {
    "ExecuteTime": {
     "end_time": "2024-09-02T04:31:05.541426Z",
     "start_time": "2024-09-02T04:31:05.326134Z"
    }
   },
   "outputs": [],
   "source": [
    "import os\n",
    "from utils import generate_response, get_context_for_her, save_response_to_her\n"
   ]
  },
  {
   "cell_type": "code",
   "execution_count": 5,
   "metadata": {
    "ExecuteTime": {
     "end_time": "2024-09-02T04:31:05.544103Z",
     "start_time": "2024-09-02T04:31:05.542422Z"
    }
   },
   "outputs": [],
   "source": [
    "role = \"You are general assistant\"\n",
    "\n",
    "query = \"\"\"\n",
    "\n",
    "give me a description and a readme for a github project that is a RAG for literature review\n",
    "\n",
    "\"\"\""
   ]
  },
  {
   "cell_type": "code",
   "execution_count": 6,
   "metadata": {
    "ExecuteTime": {
     "end_time": "2024-09-02T04:31:16.346725Z",
     "start_time": "2024-09-02T04:31:05.544623Z"
    }
   },
   "outputs": [
    {
     "name": "stdout",
     "output_type": "stream",
     "text": [
      "Here's a description and README for a GitHub project that is a Retrieval-Augmented Generation (RAG) system for literature review:\n",
      "\n",
      "Project Title: LitReviewRAG\n",
      "\n",
      "Description:\n",
      "LitReviewRAG is an advanced tool designed to streamline and enhance the literature review process using Retrieval-Augmented Generation (RAG) techniques. This project combines the power of natural language processing, machine learning, and information retrieval to assist researchers, students, and academics in conducting comprehensive and efficient literature reviews.\n",
      "\n",
      "The system allows users to input research questions or topics and automatically retrieves relevant academic papers, articles, and publications from various databases. It then employs state-of-the-art language models to generate concise summaries, extract key findings, and synthesize information across multiple sources. LitReviewRAG aims to significantly reduce the time and effort required for literature reviews while improving the quality and depth of the analysis.\n",
      "\n",
      "README.md:\n",
      "\n",
      "```markdown\n",
      "# LitReviewRAG\n",
      "\n",
      "## Description\n",
      "\n",
      "LitReviewRAG is a Retrieval-Augmented Generation system designed to revolutionize the literature review process. By leveraging advanced NLP techniques and machine learning models, this tool assists researchers in quickly finding, analyzing, and synthesizing relevant academic literature.\n",
      "\n",
      "## Features\n",
      "\n",
      "- Automated retrieval of relevant academic papers from multiple databases\n",
      "- Intelligent filtering and ranking of search results\n",
      "- Generation of concise summaries for individual papers\n",
      "- Cross-document synthesis and key findings extraction\n",
      "- Citation management and export functionality\n",
      "- User-friendly web interface\n",
      "\n",
      "## Installation\n",
      "\n",
      "1. Clone the repository:\n",
      "   ```\n",
      "   git clone https://github.com/yourusername/LitReviewRAG.git\n",
      "   ```\n",
      "\n",
      "2. Navigate to the project directory:\n",
      "   ```\n",
      "   cd LitReviewRAG\n",
      "   ```\n",
      "\n",
      "3. Install the required dependencies:\n",
      "   ```\n",
      "   pip install -r requirements.txt\n",
      "   ```\n",
      "\n",
      "4. Set up the necessary API keys for academic databases (instructions in `config_example.py`)\n",
      "\n",
      "5. Run the setup script:\n",
      "   ```\n",
      "   python setup.py\n",
      "   ```\n",
      "\n",
      "## Usage\n",
      "\n",
      "1. Start the web server:\n",
      "   ```\n",
      "   python app.py\n",
      "   ```\n",
      "\n",
      "2. Open your web browser and navigate to `http://localhost:5000`\n",
      "\n",
      "3. Enter your research question or topic in the search bar\n",
      "\n",
      "4. Review the generated results, summaries, and synthesis\n",
      "\n",
      "5. Export your literature review in your preferred format\n",
      "\n",
      "## Contributing\n",
      "\n",
      "We welcome contributions to LitReviewRAG! Please read our [CONTRIBUTING.md](CONTRIBUTING.md) for details on how to submit pull requests, report issues, and suggest improvements.\n",
      "\n",
      "## License\n",
      "\n",
      "This project is licensed under the MIT License - see the [LICENSE.md](LICENSE.md) file for details.\n",
      "\n",
      "## Acknowledgments\n",
      "\n",
      "- This project uses the following open-source libraries: [list key dependencies]\n",
      "- Special thanks to [mention any individuals or organizations that provided significant help]\n",
      "\n",
      "## Contact\n",
      "\n",
      "For questions or support, please open an issue on GitHub or contact the maintainers at [your@email.com].\n",
      "```\n",
      "\n",
      "This README provides a comprehensive overview of the LitReviewRAG project, including its purpose, features, installation instructions, usage guide, and other important information for potential users and contributors. You can customize and expand on this template to better fit the specific details and requirements of your project.\n"
     ]
    }
   ],
   "source": [
    "model = \"anthropic\" # gpt4o or anthropic\n",
    "response = generate_response(query, get_context_for_her(), role, model = model)\n",
    "\n",
    "save_response_to_her(f\"Question: {query}\\n\\nAnswer: {response}\\n\\n\")\n",
    "print (response)"
   ]
  }
 ],
 "metadata": {
  "kernelspec": {
   "display_name": "Python 3",
   "language": "python",
   "name": "python3"
  },
  "language_info": {
   "codemirror_mode": {
    "name": "ipython",
    "version": 3
   },
   "file_extension": ".py",
   "mimetype": "text/x-python",
   "name": "python",
   "nbconvert_exporter": "python",
   "pygments_lexer": "ipython3",
   "version": "3.10.11"
  }
 },
 "nbformat": 4,
 "nbformat_minor": 2
}
