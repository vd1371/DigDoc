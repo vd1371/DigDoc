{
 "cells": [
  {
   "cell_type": "code",
   "execution_count": 1,
   "metadata": {
    "ExecuteTime": {
     "end_time": "2024-09-02T03:54:01.319598Z",
     "start_time": "2024-09-02T03:53:43.766374Z"
    }
   },
   "outputs": [],
   "source": [
    "from utils import get_vectorized_of_pdfs, ask_question, convert_chat_history\n",
    "\n",
    "pdf_directory = \"direc/to/pdfs\"\n",
    "project_name = \"SetYourProjectName\"\n",
    "\n",
    "# Pass reindex=True if you want to reindex the PDFs\n",
    "vectorstore = get_vectorized_of_pdfs(\n",
    "    pdf_directory,\n",
    "    project_name=project_name,\n",
    "    reindex=False\n",
    ")\n",
    "\n",
    "# Run me if you want to clear the chat history or start fresh\n",
    "chat_history = []"
   ]
  },
  {
   "cell_type": "code",
   "outputs": [],
   "source": [
    "query = f\"\"\"\n",
    "{convert_chat_history(chat_history, 2)}\n",
    "\n",
    "Here comes the question\n",
    "\n",
    "\"\"\""
   ],
   "metadata": {
    "collapsed": false,
    "ExecuteTime": {
     "end_time": "2024-09-02T03:59:06.576028Z",
     "start_time": "2024-09-02T03:59:06.574012Z"
    }
   },
   "execution_count": 5
  },
  {
   "cell_type": "code",
   "execution_count": 6,
   "metadata": {
    "ExecuteTime": {
     "end_time": "2024-09-02T03:59:19.774828Z",
     "start_time": "2024-09-02T03:59:08.127716Z"
    }
   },
   "outputs": [
    {
     "name": "stdout",
     "output_type": "stream",
     "text": [
      "Markdown saved to result.md\n",
      "Question: \n",
      "[HISTORY] Here is the chat history:\n",
      "User: \n",
      "\n",
      "\n",
      "based on the provided documents, can you give me three promising line of research?\n",
      "\n",
      "\n",
      "AI: Based on the provided documents, three promising lines of research in the field of machine learning (ML) applications in construction engineering (CE) are:\n",
      "\n",
      "1. **Deployment and Practical Applicability of ML Models in CE**:\n",
      "   - **Justification and Deployment**: There is a significant gap between the development of ML models and their practical deployment in the construction industry. Future research should focus on bridging this gap by providing detailed justifications for the use of ML models, addressing the barriers to their practical application, and ensuring that these models can be integrated into existing engineering standards and guidelines.\n",
      "   - **Case Studies and Real-life Validation**: Conducting real-life validation studies to assess the performance of ML models in actual construction settings can enhance their credibility and applicability. This involves testing the models on real-world data, considering the noise and variability inherent in such data, and ensuring that the models can handle practical challenges effectively.\n",
      "\n",
      "2. **Improving Data Handling and Model Training Processes**:\n",
      "   - **Data Collection and Preprocessing**: Research can be directed toward developing more robust methods for data collection and preprocessing. This includes ensuring that the collected data is comprehensive, representative of various scenarios, and properly balanced. Techniques for accurate data encoding, standard train-test split methods, and handling imbalanced datasets are critical areas for improvement.\n",
      "   - **Model Training and Evaluation**: Future studies should explore advanced model training techniques, including hyperparameter tuning, handling overfitting, and selecting appropriate evaluation metrics. Comparing the performance of complex ML models with simple base rates (e.g., linear models, logistic regression) can provide benchmarks for further validation and calibration.\n",
      "\n",
      "3. **Scalability and Generalizability of ML Models in CE**:\n",
      "   - **Scalability to Real-world Problems**: Research should focus on ensuring that ML models developed for small-scale or theoretical problems can be scaled up to handle large-scale, real-world construction projects. This includes considering the scalability of project-level solutions to network-level analyses and ensuring that the models can handle the complexity and variability of real-world scenarios.\n",
      "   - **Generalizability Across Different Use Cases**: Assessing the generalizability of ML models across different construction projects and use cases is crucial. This involves training models on diverse datasets that capture a wide range of variations and conducting thorough sensitivity analyses to evaluate the robustness of the models to changes in the data over time.\n",
      "\n",
      "These research lines address the critical areas of deployment, data handling, and scalability, which are essential for advancing the application of ML in construction engineering and ensuring that these models can be effectively utilized in practice.\n",
      "\n",
      "\n",
      "can you give me 3 more?\n",
      "\n",
      "\n",
      "Answer: Certainly! Here are three additional promising lines of research in the field of machine learning (ML) applications in construction engineering (CE):\n",
      "\n",
      "4. **Cost-Benefit Analysis of ML Approaches in CE**:\n",
      "   - **Feasibility Studies and Resource Allocation**: Future research should focus on conducting comprehensive cost-benefit analyses of ML models in CE. This includes evaluating the costs associated with data collection, model training, and deployment versus the potential benefits in terms of accuracy, speed, and reliability. The goal is to ensure efficient resource allocation and to determine whether ML models provide significant advantages over traditional approaches.\n",
      "   - **Evaluating Long-term Costs and Benefits**: Investigating both short-term and long-term costs and benefits of using ML models during the problem formulation and throughout the project lifecycle can lead to more informed decision-making. This involves assessing the financial impact, resource requirements, and potential savings or efficiencies gained through the use of ML models in construction projects.\n",
      "\n",
      "5. **Updatability and Temporal Relevance of ML Models**:\n",
      "   - **Handling Time-sensitive Data**: Research should explore methods for regularly updating and retraining ML models to account for changes in time-sensitive data, such as fluctuating costs, evolving regulations, and changing environmental conditions. Ensuring that models remain accurate and relevant over time is crucial for their long-term applicability in CE.\n",
      "   - **Sensitivity Analysis and Robustness**: Conducting sensitivity analyses to evaluate the robustness of ML models to changes in data over time can help in understanding their resilience and reliability. This can involve simulating various future scenarios and assessing the model's performance under different conditions to ensure its practical utility in dynamic environments.\n",
      "\n",
      "6. **Addressing Overcomplexity and Methodological Contributions**:\n",
      "   - **Simplification of ML Approaches**: Research should aim to simplify ML models where possible, making them more interpretable and easier to implement without sacrificing accuracy. This involves balancing the complexity of the model with the need for transparency and practicality in real-world applications.\n",
      "   - **Highlighting Methodological Innovations**: Future studies can contribute to the core methodologies of ML by addressing unique challenges posed by CE applications. Detailed justifications for methodological contributions, such as framework modifications or customized computational steps, should be provided to highlight the novelty and significance of these contributions. Moreover, publishing these methodological innovations in computer science journals can attract global attention and validate the originality of the methods.\n",
      "\n",
      "These additional research lines emphasize the importance of economic feasibility, temporal relevance, and methodological clarity, which are essential for advancing the practical and theoretical aspects of ML applications in construction engineering.\n"
     ]
    }
   ],
   "source": [
    "answer, source_docs = ask_question(query, vectorstore)\n",
    "chat_history.append({\n",
    "    \"question\": query,\n",
    "    \"answer\": answer\n",
    "})\n",
    "\n",
    "print(f\"Question: {query}\")\n",
    "print(f\"Answer: {answer}\")"
   ]
  }
 ],
 "metadata": {
  "kernelspec": {
   "display_name": "Python 3",
   "language": "python",
   "name": "python3"
  },
  "language_info": {
   "codemirror_mode": {
    "name": "ipython",
    "version": 3
   },
   "file_extension": ".py",
   "mimetype": "text/x-python",
   "name": "python",
   "nbconvert_exporter": "python",
   "pygments_lexer": "ipython3",
   "version": "3.10.12"
  }
 },
 "nbformat": 4,
 "nbformat_minor": 2
}
