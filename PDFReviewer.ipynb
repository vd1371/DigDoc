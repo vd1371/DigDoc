{
 "cells": [
  {
   "cell_type": "code",
   "execution_count": 1,
   "metadata": {
    "ExecuteTime": {
     "end_time": "2024-09-02T03:54:01.319598Z",
     "start_time": "2024-09-02T03:53:43.766374Z"
    }
   },
   "outputs": [],
   "source": [
    "from utils import get_vectorized_of_pdfs\n",
    "from utils import ask_question\n",
    "from utils import convert_chat_history\n",
    "\n",
    "model = \"anthropic\" # gpt-4o or anthropic\n",
    "pdf_directory = \"E:/OneDrive - The Hong Kong Polytechnic University/Academics/2022-25-Postdoc-HKPU/Proposals/9-ClimateRelientInfrastructure/Literature\"\n",
    "project_name = \"CRIRS_Proposal\"\n",
    "\n",
    "target_docs = []\n",
    "\n",
    "vectorstore = get_vectorized_of_pdfs(\n",
    "    pdf_directory,\n",
    "    target_docs=\"all\", # pass \"all\" if you want to vectorize all the PDFs\n",
    "    project_name=project_name,\n",
    "    reindex=False # Pass True if you want to reindex the PDFs\n",
    ")\n",
    "\n",
    "chat_history = []"
   ]
  },
  {
   "cell_type": "code",
   "execution_count": 2,
   "metadata": {
    "ExecuteTime": {
     "end_time": "2024-09-02T03:59:06.576028Z",
     "start_time": "2024-09-02T03:59:06.574012Z"
    },
    "collapsed": false
   },
   "outputs": [
    {
     "name": "stdout",
     "output_type": "stream",
     "text": [
      "Markdown saved to LiteratureReview.md\n",
      "Answer: The proposed research aims to develop a comprehensive framework for assessing the resilience and risk of Hong Kong's infrastructure to multiple co-occurring hazards. To achieve this goal, the study will address the following key research questions:\n",
      "\n",
      "1. How can existing probability models, including fragility curves, occurrence models, and cost models, be refined and adapted to accurately represent the unique characteristics and geographical context of Hong Kong's infrastructure?\n",
      "\n",
      "2. What novel framework can be developed to support scenario analysis and risk assessment for different combinations of hazards specific to Hong Kong's regional and infrastructural context?\n",
      "\n",
      "3. How can we identify critical regions and infrastructure in Hong Kong, quantify associated risk measures, and generate a spatial representation of the territory's risk profile for complex, multi-hazard scenarios?\n"
     ]
    }
   ],
   "source": [
    "query = f\"\"\"\n",
    "{convert_chat_history(chat_history, 2)}\n",
    "\n",
    "This proposal aims to design a generic framework that assesses the resilience and risk of multiple co-occurring\n",
    "hazards in Hong Kong's infrastructures. It will involve refining probability models, including fragility curves,\n",
    "occurrence models, and cost models, into a specific resilience and risk measure for Hong Kong's context.\n",
    "These models will be adapted to allow the consideration of various regional and infrastructural specifics\n",
    "in Hong Kong, taking into account their unique characteristics and geographical locations. A novel framework\n",
    "will then be developed and applied to support scenario analysis and risk assessment for different combinations\n",
    "of hazards. The study will finally identify fundamental regions and infrastructure in Hong Kong, quantify\n",
    "associated measures of risk, and generate a spatial representation of the risk profile for the territory.\n",
    "This integrated approach will be able to provide some valuable insight into infrastructure resilience and\n",
    "disaster preparedness in Hong Kong with respect to complex, multi-hazard scenarios.\n",
    "\n",
    "\n",
    "rewrite this paragraph as 3 questions, I want to fill in the research questions section of the proposal.\n",
    "reword and also add a opening sentence to the paragraph\n",
    "\n",
    "\"\"\"\n",
    "\n",
    "answer, source_docs = ask_question(query, vectorstore, model=model)\n",
    "chat_history.append({\n",
    "    \"question\": query,\n",
    "    \"answer\": answer\n",
    "})\n",
    "\n",
    "# print(f\"Question: {query}\")\n",
    "print(f\"Answer: {answer}\")"
   ]
  }
 ],
 "metadata": {
  "kernelspec": {
   "display_name": "Python 3",
   "language": "python",
   "name": "python3"
  },
  "language_info": {
   "codemirror_mode": {
    "name": "ipython",
    "version": 3
   },
   "file_extension": ".py",
   "mimetype": "text/x-python",
   "name": "python",
   "nbconvert_exporter": "python",
   "pygments_lexer": "ipython3",
   "version": "3.10.11"
  }
 },
 "nbformat": 4,
 "nbformat_minor": 2
}
